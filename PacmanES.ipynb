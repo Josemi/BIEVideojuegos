{
 "cells": [
  {
   "cell_type": "markdown",
   "metadata": {
    "slideshow": {
     "slide_type": "slide"
    }
   },
   "source": [
    "![UBU](./pics/escudo_COLOR_1L_DCHA.png)\n",
    "\n",
    "# Introducción a la programación en Python\n",
    "\n",
    "\n",
    "## Comecocos\n",
    "\n",
    "### Profesores: José Francisco Díez Pastor, Álvar Arnaiz González, Ana Serrano Mamolar, Raúl Marticorena Sanchez y José Miguel Ramírez Sanz\n",
    "### Taller del BIE 2024"
   ]
  },
  {
   "cell_type": "markdown",
   "metadata": {},
   "source": [
    "## Introducción teoría\n",
    "- **Lenguaje de programación**: lenguaje artificial de tipo formal, que permite expresar cálculos y algoritmos. \n",
    "    - Se dice que es de tipo formal porque la \"gramática\" es mucho más estricta que en un lenguaje natural.\n",
    "    - En un lenguaje natural le diríamos al ordenador lo que tiene que hacer de la misma forma en la que hablamos normalmente, pero en un lenguaje formal tenemos que usar las expresiones y palabras clave definidas en el lenguaje de programación.\n",
    "    \n",
    "- **Algoritmo**: conjunto de instrucciones que obtiene la solución de un problema. Para una misma entrada, siguiendo los mismos pasos se debería llegar al mismo final.\n",
    "    \n",
    "- **Programa**: secuencia de instrucciones que permiten la solución de un problema. \n",
    "    - Un conjunto de instrucciones solo es un programa, si se ejecuta completamente y soluciona algún tipo de problema.\n"
   ]
  },
  {
   "cell_type": "markdown",
   "metadata": {},
   "source": [
    "- **Variable**: en programación, una variable está formada por un espacio de almacenaje en memoria y un nombre simbólico (un identificador) que está asociado a dicho espacio. \n",
    "    - Ese espacio contiene una cantidad de información conocida o desconocida, es decir un _valor_. \n",
    "        - `None` se utiliza para especificar que un valor es desconocido. Lo veremos más adelante con las estructuras de datos y las funciones.\n",
    "    - El nombre de la variable es la forma usual de referirse al valor almacenado. \n",
    "    - Esta separación entre nombre y contenido permite que el nombre sea usado independientemente de la información exacta que representa, esta información podría ir cambiando, por eso lo de variable."
   ]
  },
  {
   "cell_type": "code",
   "execution_count": null,
   "metadata": {},
   "outputs": [],
   "source": [
    "numero = 5\n",
    "print(numero)"
   ]
  },
  {
   "cell_type": "markdown",
   "metadata": {},
   "source": [
    "### Tipos de datos:\n",
    "- **Numéricos**:\n",
    "    - **Enteros**. No tienen decimales. La clase de los números enteros es 'int'.\n",
    "    - **Números decimales o en \"coma flotante**\". La clase de los números decimales es 'float'."
   ]
  },
  {
   "cell_type": "code",
   "execution_count": null,
   "metadata": {},
   "outputs": [],
   "source": [
    "numero = numero + 1 #numero += 1\n",
    "numero2 = 5/4\n",
    "print(numero)\n",
    "print(numero2)"
   ]
  },
  {
   "cell_type": "markdown",
   "metadata": {},
   "source": [
    "- **Cadenas de texto**. Tipo de datos utilizado para las secuencias de caracteres, su sintaxis más habitual es la secuencia de caracteres delimitada por comillas simples o dobles."
   ]
  },
  {
   "cell_type": "code",
   "execution_count": null,
   "metadata": {},
   "outputs": [],
   "source": [
    "cadena = \"Hola mundo\"\n",
    "print(cadena)"
   ]
  },
  {
   "cell_type": "markdown",
   "metadata": {},
   "source": [
    "- **Booleano**. Tipo especial de datos que puede tomar uno de dos posibles valores (True o False)."
   ]
  },
  {
   "cell_type": "code",
   "execution_count": null,
   "metadata": {},
   "outputs": [],
   "source": [
    "booleano = True\n",
    "print(booleano)"
   ]
  },
  {
   "cell_type": "markdown",
   "metadata": {},
   "source": [
    "- **Lista**. Colección de elementos (no necesariamente del mismo tipo) en donde el orden es relevante. En **Python** las listas pueden tener distintos tipos de datos. Los elementos de una lista se componen de dos datos, su posición (empezando en 0) y su valor."
   ]
  },
  {
   "cell_type": "code",
   "execution_count": null,
   "metadata": {},
   "outputs": [],
   "source": [
    "lista = [1,2,5,6,3,2,1,4,4,5,6]\n",
    "listaDif = [\"Hola\", 3, True, False, 3.2, \"Adios\"]\n",
    "print(lista)\n",
    "print(listaDif)"
   ]
  },
  {
   "cell_type": "code",
   "execution_count": null,
   "metadata": {},
   "outputs": [],
   "source": [
    "lista[1] = \"Cambio\"\n",
    "print(lista)"
   ]
  },
  {
   "cell_type": "code",
   "execution_count": null,
   "metadata": {},
   "outputs": [],
   "source": [
    "listasDeListas = [[1,2],[3,4]]\n",
    "print(listasDeListas[0])\n",
    "print(listasDeListas[0][0])"
   ]
  },
  {
   "cell_type": "code",
   "execution_count": null,
   "metadata": {},
   "outputs": [],
   "source": [
    "#Tamaño de una lista\n",
    "lista = [\"a\",\"b\",\"c\",\"d\",\"e\"] #posiciones: [0,1,2,3,4]\n",
    "print(len(lista))"
   ]
  },
  {
   "cell_type": "code",
   "execution_count": null,
   "metadata": {},
   "outputs": [],
   "source": [
    "#Añadir elementos a una lista\n",
    "print(lista)\n",
    "lista[len(lista)] = \"f\" #Funcionaría(?)"
   ]
  },
  {
   "cell_type": "code",
   "execution_count": null,
   "metadata": {},
   "outputs": [],
   "source": [
    "print(lista)\n",
    "lista.append(\"f\")\n",
    "print(lista)"
   ]
  },
  {
   "cell_type": "code",
   "execution_count": null,
   "metadata": {},
   "outputs": [],
   "source": [
    "#Eliminar de una lista\n",
    "print(lista)\n",
    "lista.remove(\"f\") #Se elimina el primer elemento de la lista con valor \"f\"\n",
    "print(lista)"
   ]
  },
  {
   "cell_type": "code",
   "execution_count": null,
   "metadata": {},
   "outputs": [],
   "source": [
    "lista.append(\"a\")\n",
    "print(lista)\n",
    "lista.remove(\"a\")\n",
    "print(lista) #Cómo queda la lista? Se elimina la primera \"a\", la segunda, ambas (?)"
   ]
  },
  {
   "cell_type": "markdown",
   "metadata": {},
   "source": [
    "### Condicionales\n",
    "La estructura de control más conocida es el <kbd>if</kbd>. \n",
    "\n",
    "Con ella se pueden crear varios **tipos de condicionales**, que según su complejidad los podemos dividir en:\n",
    " - Condicional **simple**.\n",
    " - Condicional **completo**.\n",
    " - Condicional **múltiple**.\n",
    " - Condicional **anidado**.\n",
    "\n",
    "\n",
    "#### Condicional simple\n",
    "\n",
    "```Python\n",
    "if primera condicion:\n",
    "    cuerpo o bloque\n",
    "mas codigo\n",
    "```\n",
    "\n",
    "- El inicio del bloque son los «<kbd>:</kbd>»\n",
    "- La indentación determina la extensión del bloque, todo lo que esté tabulado hacia adentro forma parte de un bloque.\n",
    "\n",
    "\n",
    "#### Condicional completo\n",
    "\n",
    "```Python\n",
    "if primera condicion:\n",
    "    # cuerpo o bloque de la parte si\n",
    "else:\n",
    "    # cuerpo parte else\n",
    "mas codigo\n",
    "```\n",
    "\n",
    "\n",
    "\n",
    "#### Condicional múltiple\n",
    "\n",
    "```Python\n",
    "if primera condicion:\n",
    "    primer cuerpo\n",
    "elif segunda condicion:\n",
    "    segundo cuerpo\n",
    "elif tercera condicion:\n",
    "    tercer cuerpo\n",
    "else:\n",
    "    cuarto cuerpo\n",
    "mas codigo\n",
    "```\n",
    "\n",
    "- El inicio de cada bloque son los «<kbd>:</kbd>»\n",
    "- La indentación determina la extensión del bloque\n",
    "- Puede haber 0 o más partes <kbd>elif</kbd>, la parte <kbd>else</kbd> debe de ser la última."
   ]
  },
  {
   "cell_type": "code",
   "execution_count": null,
   "metadata": {},
   "outputs": [],
   "source": [
    "print(numero)"
   ]
  },
  {
   "cell_type": "code",
   "execution_count": null,
   "metadata": {},
   "outputs": [],
   "source": [
    "if numero < 10:\n",
    "    print(\"La variable es menor que 10\")\n",
    "else:\n",
    "    print(\"La variable es mayor o igual a 10\")"
   ]
  },
  {
   "cell_type": "markdown",
   "metadata": {},
   "source": [
    "### Bucles\n",
    "#### While\n",
    "Bucle general basado en la comprobación repetida de una condición booleana.\n",
    "\n",
    "```Python\n",
    "\n",
    "while condicion:\n",
    "    cuerpo\n",
    "```"
   ]
  },
  {
   "cell_type": "code",
   "execution_count": null,
   "metadata": {},
   "outputs": [],
   "source": [
    "numero = 6\n",
    "while numero < 10:\n",
    "    print(\"La variable\", numero, \"un es menor que 10\")\n",
    "    numero += 1"
   ]
  },
  {
   "cell_type": "markdown",
   "metadata": {},
   "source": [
    "#### For\n",
    "\n",
    "El <kbd>for</kbd> en Python difiere un poco de como se usa esta sentencia en lenguajes como C.\n",
    "\n",
    "En C y otros lenguajes se permite definir el inicio, el final y el incremento/decremento.\n",
    "\n",
    "En Python se itera sobre los valores de una lista.\n",
    "\n",
    "```Python\n",
    "for elemento in iterable:\n",
    "    cuerpo\n",
    "```"
   ]
  },
  {
   "cell_type": "code",
   "execution_count": null,
   "metadata": {},
   "outputs": [],
   "source": [
    "print(lista)"
   ]
  },
  {
   "cell_type": "code",
   "execution_count": null,
   "metadata": {},
   "outputs": [],
   "source": [
    "#Acceso por valor\n",
    "for i in lista:\n",
    "    print(i)"
   ]
  },
  {
   "cell_type": "code",
   "execution_count": null,
   "metadata": {},
   "outputs": [],
   "source": [
    "#Acceso por posición\n",
    "for i in range(len(lista)):\n",
    "    print(lista[i])"
   ]
  },
  {
   "cell_type": "code",
   "execution_count": null,
   "metadata": {},
   "outputs": [],
   "source": [
    "#Qué pasa si queremos recorrer una lista de listas (?)\n",
    "lista = [[1,2],[3,4]]\n",
    "\n"
   ]
  },
  {
   "cell_type": "markdown",
   "metadata": {},
   "source": [
    "### Funciones\n",
    "Las funciones son uno de los elementos más utilizados en la programación. Sirven para `\"empaquetar\"` **porciones de código** que realizan una tarea concreta.\n",
    "\n",
    "El poder agrupar código que realice una tarea concreta nos permite **reutilizar** código y **simplificar** el desarrollo de programas.\n",
    "\n",
    "\n",
    "En Python:\n",
    "\n",
    "- Se definen funciones con la palabra reservada <kbd>def</kbd>.\n",
    "- Ni los parámetros de entrada, ni el resultado tiene tipos explicitos (no indicamos el tipo de los datos).\n",
    "- El cuerpo está indentado (tabulador o 4 espacios hacia adentro).\n",
    "- Si no se devuelve nada explicitamente, la función retornará <kbd>None</kbd>. \n",
    "\n",
    "```Python\n",
    "def funcion(argumento1, argumento2):\n",
    "    # comentario\n",
    "    # cuerpo\n",
    "    return 0 #(opcional)\n",
    "```"
   ]
  },
  {
   "cell_type": "markdown",
   "metadata": {
    "slideshow": {
     "slide_type": "slide"
    }
   },
   "source": [
    "## Comecocos\n",
    "El comecocos (en esta versión simplificada) se trata de un juego en el que un personaje (Pacman) se desplaza por un tablero, en el que tenemos casillas libres y paredes o muros. En este tablero, en las casillas libres hay alimentos. Cuando Pacman se coloca en una casilla con alimento, el alimento desaparece y se incrementan los puntos.\n",
    "\n",
    "![Comecocos](comecocos.png)\n",
    "\n"
   ]
  },
  {
   "cell_type": "markdown",
   "metadata": {
    "slideshow": {
     "slide_type": "slide"
    }
   },
   "source": [
    "## Partes del juego\n",
    "\n",
    "- Tablero: Define las partes del suelo libres o que están ocupadas por un muro. El tablero es inmutable, no cambia nunca.\n",
    "- MrPacman: Define la posición del personaje en términos de coordenadas y,x (fila, columna), su posición sí que cambia.\n",
    "- Comida: Algunas casillas tienen comida, cuando Mr. Pacman pisa una de esas casillas desaparece la comida y aumentan los puntos. La comida, por lo tanto, solo puede ir desapareciendo.\n",
    "- Puntos: Un número que se va incrementando a medida que se come la comida del tablero."
   ]
  },
  {
   "cell_type": "markdown",
   "metadata": {
    "slideshow": {
     "slide_type": "slide"
    }
   },
   "source": [
    "## Preguntas sobre representación de las partes del juego\n",
    "\n",
    "¿ Que tipo de dato sería cada parte del juego atendiendo a los datos anteriores?\n",
    "\n",
    "________\n",
    "_________\n",
    "_________\n",
    "________\n",
    "_________\n",
    "_________\n",
    "________\n",
    "_________\n",
    "_________\n",
    "_________\n",
    "_________\n",
    "_________"
   ]
  },
  {
   "cell_type": "markdown",
   "metadata": {
    "slideshow": {
     "slide_type": "subslide"
    }
   },
   "source": [
    "## Preguntas sobre representación de las partes del juego\n",
    "\n",
    "¿Que tipo de dato sería cada parte del juego atendiendo a los datos anteriores?\n",
    "\n",
    "- El tablero no va a cambiar nunca, podría ser una lista de listas. Cada lista interna representando una fila. Y cada valor de la fila representaría: con 0 que es una casilla libre o con un 1 que hay un muro.\n",
    "________\n",
    "_________\n",
    "_________\n",
    "________\n",
    "_________\n",
    "_________\n",
    "________\n",
    "_________\n",
    "_________\n",
    "_________\n",
    "_________\n",
    "_________\n"
   ]
  },
  {
   "cell_type": "markdown",
   "metadata": {
    "slideshow": {
     "slide_type": "subslide"
    }
   },
   "source": [
    "## Preguntas sobre representación de las partes del juego\n",
    "\n",
    "¿Que tipo de dato sería cada parte del juego atendiendo a los datos anteriores?\n",
    "\n",
    "- MrPacman va a cambiar, queremos hacer operaciones de movimiento que lo desplacen hacía arriba, abajo, derecha e izquierda, lo mejor es que sea una lista de coordenadas.\n",
    "________\n",
    "_________\n",
    "_________\n",
    "________\n",
    "_________\n",
    "_________\n",
    "________\n",
    "_________\n",
    "_________\n",
    "_________\n",
    "_________\n",
    "_________\n"
   ]
  },
  {
   "cell_type": "markdown",
   "metadata": {
    "slideshow": {
     "slide_type": "subslide"
    }
   },
   "source": [
    "## Preguntas sobre representación de las partes del juego\n",
    "\n",
    "¿Que tipo de dato sería cada parte del juego atendiendo a los datos anteriores?\n",
    "\n",
    "- Comida: Se quiere saber si una determinada coordenada está entre las que tienen comida y se quieren eliminar elementos cuando la comida se consuma.\n",
    "\n",
    "Comida será una lista de listas: cada lista interna una coordenada, que indica que en dicha coordenada hay comida.\n",
    "\n",
    "Usando una lista de coordenadas se puede hacer lo primero muy facilmente con el operador **in** y lo segundo con **remove**.\n",
    "\n",
    "________\n",
    "_________\n",
    "_________\n",
    "________\n",
    "_________\n",
    "_________\n",
    "________\n",
    "_________\n",
    "_________\n",
    "_________\n",
    "_________\n",
    "_________\n",
    "\n"
   ]
  },
  {
   "cell_type": "markdown",
   "metadata": {
    "slideshow": {
     "slide_type": "subslide"
    }
   },
   "source": [
    "## Preguntas sobre representación de las partes del juego\n",
    "\n",
    "¿Que tipo de dato sería cada parte del juego atendiendo a los datos anteriores?\n",
    "\n",
    "- Los puntos son una variable numérica.\n",
    "\n",
    "________\n",
    "_________\n",
    "_________\n",
    "________\n",
    "_________\n",
    "_________\n",
    "________\n",
    "_________\n",
    "_________\n",
    "_________\n",
    "_________\n",
    "_________"
   ]
  },
  {
   "cell_type": "markdown",
   "metadata": {
    "slideshow": {
     "slide_type": "slide"
    }
   },
   "source": [
    "## Ejemplo de representación de una partida\n"
   ]
  },
  {
   "cell_type": "code",
   "execution_count": null,
   "metadata": {
    "slideshow": {
     "slide_type": "fragment"
    }
   },
   "outputs": [],
   "source": [
    "# Un tablero cualquiera, pacman arriba a la izquierda, 0 puntos\n",
    "mi_tablero = [[1,1,1,1,1,1,1,1,1,1],\n",
    "           [1,0,0,0,0,0,0,0,0,1],\n",
    "           [1,0,1,0,1,1,0,1,0,1],\n",
    "           [1,0,1,0,1,1,0,1,0,1],\n",
    "           [1,0,1,0,1,1,0,1,0,1],\n",
    "           [1,0,0,0,1,1,0,0,0,1],\n",
    "           [1,1,1,0,1,1,0,1,0,1],\n",
    "           [1,1,1,0,0,0,0,1,1,1],\n",
    "           [1,1,1,1,1,1,0,0,0,1],\n",
    "           [1,1,1,1,1,1,1,1,0,1],\n",
    "           [1,1,1,1,1,1,1,1,1,1]]\n",
    "mi_pacman = [1,1]\n",
    "mi_puntos = 0"
   ]
  },
  {
   "cell_type": "code",
   "execution_count": null,
   "metadata": {},
   "outputs": [],
   "source": [
    "mi_tablero[1]    # me da la primera fila (la lista con todos los elementos de dicha fila)"
   ]
  },
  {
   "cell_type": "code",
   "execution_count": null,
   "metadata": {},
   "outputs": [],
   "source": [
    "mi_tablero[0][1] # me da el valor de la celda: de la primera fila, segunda columna"
   ]
  },
  {
   "cell_type": "markdown",
   "metadata": {
    "slideshow": {
     "slide_type": "slide"
    }
   },
   "source": [
    "## Ejercicio\n",
    "\n",
    "Usando la representación anterior.  ¿Como se definiría una función para saber si una celda está libre? \n",
    "\n",
    "Estará libre si hay un 0.\n",
    "\n",
    "Hay que consultar el valor de una lista, completando esta función (No avances hasta haberlo intentado). \n",
    "\n",
    "\n",
    "\n",
    "```Python\n",
    "def esta_libre(tablero, coordenada):\n",
    "    return False\n",
    "```\n",
    "\n",
    "________\n",
    "_________\n",
    "_________\n",
    "________\n",
    "_________\n",
    "_________\n",
    "________\n",
    "_________\n",
    "_________\n",
    "_________\n",
    "_________\n",
    "_________\n"
   ]
  },
  {
   "cell_type": "code",
   "execution_count": null,
   "metadata": {},
   "outputs": [],
   "source": [
    "def esta_libre(tablero, coordenada):\n",
    "    # Completar la función\n",
    "    \n",
    "\n",
    "\n",
    "\n",
    "\n",
    "\n",
    "\n",
    "\n",
    "\n",
    "\n",
    "\n",
    "\n",
    "\n"
   ]
  },
  {
   "cell_type": "code",
   "execution_count": null,
   "metadata": {},
   "outputs": [],
   "source": [
    "\n",
    "\n"
   ]
  },
  {
   "cell_type": "code",
   "execution_count": null,
   "metadata": {
    "slideshow": {
     "slide_type": "slide"
    }
   },
   "outputs": [],
   "source": [
    "# Posible solución\n",
    "def esta_libre(tablero, coordenada):\n",
    "    return tablero[coordenada[0]][coordenada[1]] == 0"
   ]
  },
  {
   "cell_type": "markdown",
   "metadata": {
    "slideshow": {
     "slide_type": "slide"
    }
   },
   "source": [
    "## Ejercicio\n",
    "\n",
    "Para saber dónde hay que colocar la comida, primero tenemos que saber todas las celdas libres del tablero.\n",
    "Pistas: averiguar el tamaño de una lista, recorrer con un bucle dicha lista, utilizar la función anterior (añadir elementos a una lista)\n",
    "\n",
    "```Python\n",
    "def get_coordenadas_libres(tablero):\n",
    "        \n",
    "    libres = []\n",
    "    \n",
    "    # ... \n",
    "    \n",
    "    return libres\n",
    "```\n",
    "\n"
   ]
  },
  {
   "cell_type": "code",
   "execution_count": null,
   "metadata": {},
   "outputs": [],
   "source": [
    "# Pista: sacar todas las posibles coordenadas del tablero\n",
    "alto = len(mi_tablero)\n",
    "ancho = len(mi_tablero[0])\n",
    "\n",
    "for i in range(alto):\n",
    "    for j in range(ancho):\n",
    "        print([i,j])"
   ]
  },
  {
   "cell_type": "code",
   "execution_count": null,
   "metadata": {},
   "outputs": [],
   "source": [
    "# completa la función\n",
    "def get_coordenadas_libres(tablero):\n",
    "\n",
    "    libres = []\n",
    "\n",
    "    return libres\n",
    "\n",
    "#define la variable mi_comida con el valor que devuelva la función get_coordenadas_libres con mi_tablero"
   ]
  },
  {
   "cell_type": "markdown",
   "metadata": {},
   "source": [
    "________\n",
    "_________\n",
    "_________\n",
    "________\n",
    "_________\n",
    "_________\n",
    "________\n",
    "_________\n",
    "_________\n",
    "_________\n",
    "_________\n",
    "_________\n"
   ]
  },
  {
   "cell_type": "code",
   "execution_count": null,
   "metadata": {
    "slideshow": {
     "slide_type": "slide"
    }
   },
   "outputs": [],
   "source": [
    "# Posible solución\n",
    "def get_coordenadas_libres(tablero):\n",
    "    alto = len(tablero)\n",
    "    ancho = len(tablero[0])\n",
    "    \n",
    "    libres = []\n",
    "    \n",
    "    for i in range(alto):\n",
    "        for j in range(ancho):\n",
    "            coord = [i,j]\n",
    "            if esta_libre(tablero,coord):\n",
    "                libres.append(coord)\n",
    "    return libres\n",
    "\n",
    "# guardo el resultado en la variable comida\n",
    "mi_comida = get_coordenadas_libres(mi_tablero)               "
   ]
  },
  {
   "cell_type": "markdown",
   "metadata": {
    "slideshow": {
     "slide_type": "slide"
    }
   },
   "source": [
    "## Ejercicio\n",
    "\n",
    "Mover Mr. Pacman a una de sus cuatro coordenadas adyacentes consiste, básicamente, en sumar a las coordenadas de Pacman una lista pasada como argumento que puede valer [1,0] (mover a abajo), [-1,0] (mover a arriba), [0,1] (mover derecha) o [0,-1] (mover izquierda).\n",
    "\n",
    "Se puede usar un *map* o sumar las coordenadas una a una.\n",
    "\n",
    "```Python\n",
    "def mueve(pacman,mov):\n",
    "    return nuevaCoordenada\n",
    "```\n"
   ]
  },
  {
   "cell_type": "code",
   "execution_count": null,
   "metadata": {},
   "outputs": [],
   "source": [
    "# completa la función\n",
    "def mueve(pacman,mov):\n",
    "    \n",
    "\n",
    "\n",
    "\n",
    "\n"
   ]
  },
  {
   "cell_type": "markdown",
   "metadata": {},
   "source": [
    "\n",
    "________\n",
    "_________\n",
    "_________\n",
    "________\n",
    "_________\n",
    "_________\n",
    "________\n",
    "_________\n",
    "_________\n",
    "_________\n",
    "_________\n",
    "_________\n"
   ]
  },
  {
   "cell_type": "code",
   "execution_count": null,
   "metadata": {
    "slideshow": {
     "slide_type": "slide"
    }
   },
   "outputs": [],
   "source": [
    "# Posibles soluciones\n",
    "\n",
    "# versión con map\n",
    "def mueve(pacman,mov):\n",
    "    return list(map(lambda x,y: x+y, pacman,mov))\n",
    "\n",
    "# versión sin map\n",
    "def mueve(pacman,mov):\n",
    "    return [pacman[0]+mov[0], pacman[1]+mov[1]]\n",
    "\n"
   ]
  },
  {
   "cell_type": "markdown",
   "metadata": {
    "slideshow": {
     "slide_type": "slide"
    }
   },
   "source": [
    "## Ejercicio\n",
    "\n",
    "\n",
    "Saber si hay comida. Pista: hay que usar **in**\n",
    "\n",
    "```Python\n",
    "def hay_comida(pacman,comida):\n",
    "    return False\n",
    "```\n",
    "\n"
   ]
  },
  {
   "cell_type": "code",
   "execution_count": null,
   "metadata": {},
   "outputs": [],
   "source": [
    "# completa la función\n",
    "def hay_comida(pacman,comida):\n",
    "    \n",
    "\n",
    "\n"
   ]
  },
  {
   "cell_type": "markdown",
   "metadata": {},
   "source": [
    "________\n",
    "_________\n",
    "_________\n",
    "________\n",
    "_________\n",
    "_________\n",
    "________\n",
    "_________\n",
    "_________\n",
    "_________\n",
    "_________\n",
    "_________\n"
   ]
  },
  {
   "cell_type": "code",
   "execution_count": null,
   "metadata": {
    "slideshow": {
     "slide_type": "slide"
    }
   },
   "outputs": [],
   "source": [
    "# Posible solución\n",
    "def hay_comida(pacman,comida):\n",
    "    return pacman in comida"
   ]
  },
  {
   "cell_type": "markdown",
   "metadata": {
    "slideshow": {
     "slide_type": "slide"
    }
   },
   "source": [
    "## Ejercicio. Pintar tablero\n",
    "\n",
    "La función recibe el tablero, pacman, comida y puntos; e imprime una cadena de texto con la representación del juego.\n",
    "1. Averiguar el tamaño del tablero.\n",
    "2. Recorrer con un bucle todas las filas y columnas.\n",
    "3. Añadir a la cadena que se va a dibujar la representación de cada elemento del juego:\n",
    "    - El muro es \"#\", la comida es \".\" y pacman es \"\\*\"\n",
    "    - Se usa if/elif/else    \n",
    "    - Las cadenas se concatenan con +\n",
    "4. Puedes añadir al final la puntuación\n"
   ]
  },
  {
   "cell_type": "code",
   "execution_count": null,
   "metadata": {
    "slideshow": {
     "slide_type": "slide"
    }
   },
   "outputs": [],
   "source": [
    "# completa la función\n",
    "def pinta_juego(tablero,pacman,comida,puntos):\n",
    "    alto = len(tablero)\n",
    "    ancho = len(tablero[0])\n",
    "    \n",
    "    rep = \"\"\n",
    "    \n",
    "    \n",
    "    # completa aqui\n",
    "                \n",
    "    print(rep)\n",
    "\n",
    "# no avances hasta haberlo intentado.\n",
    "pinta_juego(mi_tablero,mi_pacman,mi_comida,mi_puntos)"
   ]
  },
  {
   "cell_type": "markdown",
   "metadata": {},
   "source": [
    "________\n",
    "_________\n",
    "_________\n",
    "________\n",
    "_________\n",
    "_________\n",
    "________\n",
    "_________\n",
    "_________\n",
    "_________\n",
    "_________\n",
    "_________\n"
   ]
  },
  {
   "cell_type": "code",
   "execution_count": null,
   "metadata": {
    "slideshow": {
     "slide_type": "slide"
    }
   },
   "outputs": [],
   "source": [
    "def pinta_juego(tablero,pacman,comida,puntos):\n",
    "    alto = len(tablero)\n",
    "    ancho = len(tablero[0])\n",
    "    \n",
    "    rep = \"\"\n",
    "    \n",
    "    for i in range(alto):\n",
    "        for j in range(ancho):\n",
    "            coord = [i,j]\n",
    "            if not esta_libre(tablero,coord):\n",
    "                rep+=\"#\"\n",
    "            elif pacman == coord:\n",
    "                rep+=\"*\"\n",
    "            elif coord in comida:\n",
    "                rep+=\".\"\n",
    "            else:\n",
    "                rep+=\" \"\n",
    "        rep+=\"\\n\"\n",
    "    \n",
    "    rep+=\"Puntos:\"+str(puntos)\n",
    "                    \n",
    "    print(rep)"
   ]
  },
  {
   "cell_type": "code",
   "execution_count": null,
   "metadata": {
    "slideshow": {
     "slide_type": "slide"
    }
   },
   "outputs": [],
   "source": [
    "pinta_juego(mi_tablero,mi_pacman,mi_comida,mi_puntos)"
   ]
  },
  {
   "cell_type": "markdown",
   "metadata": {
    "slideshow": {
     "slide_type": "slide"
    }
   },
   "source": [
    "## Pinta tablero HTML\n",
    "\n",
    "El widget HTML es capaz de mostrar código HTML.\n",
    "Una de las cosas que puede hacer es mostrar una tabla HTML con una imagen diferente por cada tipo de elemento. La siguiente función la proporciona el profesor."
   ]
  },
  {
   "cell_type": "code",
   "execution_count": null,
   "metadata": {
    "slideshow": {
     "slide_type": "slide"
    }
   },
   "outputs": [],
   "source": [
    "from IPython.display import display\n",
    "from ipywidgets import HTML\n",
    "\n",
    "def pinta_juegoHTML(tablero,pacman,comida,puntos):\n",
    "    alto, ancho = len(tablero), len(tablero[0])    \n",
    "    cadenaHTML = '<table> <tr>'    \n",
    "    caracter = '<td></td>'\n",
    "    blockImg = '<td><img src=\"./spritesPacman/block.jpg\" alt=\"\" border=0 height=50 width=50></img></td>'\n",
    "    huecoImg = '<td><img src=\"./spritesPacman/hueco.jpg\" alt=\"\" border=0 height=50 width=50></img></td>'\n",
    "    comidaImg = '<td><img src=\"./spritesPacman/comida.jpg\" alt=\"\" border=0 height=50 width=50></img></td>'     \n",
    "    pacmanImg = '<td><img src=\"./spritesPacman/pacman.jpg\" alt=\"\" border=0 height=50 width=50></img></td>'\n",
    "    saltoLinea = \"</tr>\"\n",
    "    \n",
    "    for i in range(alto):\n",
    "        for j in range(ancho):\n",
    "            coord = [i,j]\n",
    "            if not esta_libre(tablero,coord):\n",
    "                caracter = blockImg\n",
    "            elif pacman == coord:\n",
    "                caracter = pacmanImg\n",
    "            elif coord in comida:\n",
    "                caracter = comidaImg\n",
    "            else:\n",
    "                caracter = huecoImg\n",
    "                \n",
    "            cadenaHTML += caracter\n",
    "        cadenaHTML += saltoLinea        \n",
    "        \n",
    "    cadenaHTML += saltoLinea\n",
    "    cadenaHTML += \"Puntos:\"+str(puntos)        \n",
    "    return cadenaHTML"
   ]
  },
  {
   "cell_type": "code",
   "execution_count": null,
   "metadata": {
    "slideshow": {
     "slide_type": "slide"
    }
   },
   "outputs": [],
   "source": [
    "display(HTML(pinta_juegoHTML(mi_tablero,mi_pacman,mi_comida,mi_puntos)))"
   ]
  },
  {
   "cell_type": "markdown",
   "metadata": {
    "slideshow": {
     "slide_type": "slide"
    }
   },
   "source": [
    "## Poniendo todo junto\n",
    "\n",
    "En jupyter notebook se pueden usar widgets para capturar la interacción del usuario y para mostrar resultados.\n",
    "\n",
    "El widget HTML nos sirve para representar el juego y los botones para capturar los movimientos.\n",
    "\n",
    "En la función asociada al evento del botón va a averiguar cual es el botón pulsado y en función de cual sea, va a hacer que el movimiento a realizar sea [-1,0], [1,0], [0,-1] o [0,1].\n",
    "\n",
    "Esta función se debería modificar para hacer el el Pacman se mueva y coma la comida."
   ]
  },
  {
   "cell_type": "markdown",
   "metadata": {
    "slideshow": {
     "slide_type": "slide"
    }
   },
   "source": [
    "Cuando se pulsa un botón se ejecuta una función, en este caso la función ```on_button_clicked``` que recibe como argumento el botón pulsado. A partir de la descripción del botón, se puede saber cual ha sido el botón pulsado y que tipo de movimiento debemos usar para actualizar la posición de pacman.\n",
    "\n",
    "Las variables pacman, comida y puntos, son variables globales, por lo que dentro de la función tengo que indicar que se va a acceder a dichas variables.\n",
    "\n",
    "## Ejercicio\n",
    "\n",
    "Completa la función ```on_button_clicked```, que aparece arriba, para que el pacman se mueva por las casillas libres, coma la comida y se incrementen los puntos de manera correcta. Solamente se trata de usar las funciones definidas anteriormente"
   ]
  },
  {
   "cell_type": "code",
   "execution_count": null,
   "metadata": {
    "slideshow": {
     "slide_type": "slide"
    }
   },
   "outputs": [],
   "source": [
    "# Función a completar\n",
    "'''\n",
    "Esta será la función que se ejecutará al pulsar cada botón.\n",
    "En cada pulsación:\n",
    "- miro cuál es el botón pulsado\n",
    "- aplico el movimiento\n",
    "\n",
    "'''\n",
    "def on_button_clicked(b):\n",
    "    desc=b.description\n",
    "    mov = [0,0]\n",
    "    if desc==\"^\":\n",
    "        mov=[-1,0]\n",
    "    elif desc==\"v\":\n",
    "        mov=[1,0]\n",
    "    elif desc==\">\":\n",
    "        mov=[0,1]\n",
    "    elif desc==\"<\":\n",
    "        mov=[0,-1]\n",
    "    \n",
    "    global mi_pacman\n",
    "    global mi_comida\n",
    "    global mi_puntos\n",
    "    global mi_tablero\n",
    "    \n",
    "    # mueve pacman usando la función mueve\n",
    "    posibleMov = mueve(mi_pacman,mov)\n",
    "   \n",
    "    ########## modifica aquí   \n",
    "    # si está libre la celda: mover Pacman\n",
    "    # si hay comida: elimina, come e incrementa los puntos\n",
    "    ########## \n",
    "\n",
    "    # completar aquí...\n",
    "    \n",
    "    visor.value = pinta_juegoHTML(mi_tablero,mi_pacman,mi_comida,mi_puntos)"
   ]
  },
  {
   "cell_type": "code",
   "execution_count": null,
   "metadata": {},
   "outputs": [],
   "source": []
  },
  {
   "cell_type": "code",
   "execution_count": null,
   "metadata": {
    "slideshow": {
     "slide_type": "slide"
    }
   },
   "outputs": [],
   "source": [
    "'''\n",
    "Celda principal del juego\n",
    "\n",
    "'''\n",
    "\n",
    "from IPython.display import display\n",
    "from ipywidgets import Dropdown ,Button, HBox, VBox, Box, HTML\n",
    "\n",
    "# En cada partida se rellena el tablero de comida\n",
    "comida = get_coordenadas_libres(mi_tablero)               \n",
    "\n",
    "# Visor HTML donde se representará el juego\n",
    "visor = HTML()\n",
    "visor.value = pinta_juegoHTML(mi_tablero,mi_pacman,mi_comida,mi_puntos)\n",
    "\n",
    "# Botones para las direcciones\n",
    "up = Button(description=\"^\")\n",
    "down = Button(description=\"v\")\n",
    "right = Button(description=\">\")\n",
    "left = Button(description=\"<\")\n",
    "\n",
    "empty = Button(description=\" \")\n",
    "empty.margin = 2\n",
    "\n",
    "# se añaden eventos a los botones\n",
    "up.on_click(on_button_clicked)\n",
    "down.on_click(on_button_clicked)\n",
    "right.on_click(on_button_clicked)\n",
    "left.on_click(on_button_clicked)\n",
    "\n",
    "# Estética: Se crea una caja vertical con dos cajas horizontales dentro\n",
    "# Tenemos 2 x 3 casillas para colocar los botones y los colocamos en forma de teclado\n",
    "control = VBox([HBox([empty,up,empty]),HBox([left,down,right])])\n",
    "\n",
    "# El juego es el visor y los controles\n",
    "ui = VBox(children=[visor, control])\n",
    "\n",
    "display(ui)"
   ]
  },
  {
   "cell_type": "code",
   "execution_count": null,
   "metadata": {
    "slideshow": {
     "slide_type": "slide"
    }
   },
   "outputs": [],
   "source": [
    "# Posible solución\n",
    "\n",
    "'''\n",
    "Esta será la función que se ejecutará al pulsar cada botón.\n",
    "En cada pulsación:\n",
    "- miro cuál es el botón pulsado\n",
    "- aplico el movimiento\n",
    "\n",
    "'''\n",
    "def on_button_clicked(b):\n",
    "    desc=b.description\n",
    "    mov = [0,0]\n",
    "    if desc==\"^\":\n",
    "        mov=[-1,0]\n",
    "    elif desc==\"v\":\n",
    "        mov=[1,0]\n",
    "    elif desc==\">\":\n",
    "        mov=[0,1]\n",
    "    elif desc==\"<\":\n",
    "        mov=[0,-1]\n",
    "    \n",
    "    global mi_pacman\n",
    "    global mi_comida\n",
    "    global mi_puntos\n",
    "    global mi_tablero\n",
    "    \n",
    "    posibleMov  = mueve(mi_pacman,mov)\n",
    "    \n",
    "    ########## modifica aquí\n",
    "    if esta_libre(mi_tablero,posibleMov):\n",
    "        mi_pacman = posibleMov\n",
    "        if hay_comida(mi_pacman,mi_comida):\n",
    "            mi_comida.remove(mi_pacman)\n",
    "            mi_puntos+=1\n",
    "    ########## coloca esto en su lugar\n",
    "    \n",
    "    visor.value = pinta_juegoHTML(mi_tablero,mi_pacman,mi_comida,mi_puntos)"
   ]
  },
  {
   "cell_type": "code",
   "execution_count": null,
   "metadata": {
    "slideshow": {
     "slide_type": "slide"
    }
   },
   "outputs": [],
   "source": [
    "'''\n",
    "Celda principal del juego\n",
    "\n",
    "'''\n",
    "\n",
    "from IPython.display import display\n",
    "from ipywidgets import Dropdown ,Button, HBox, VBox, Box, HTML\n",
    "\n",
    "# En cada partida se rellena el tablero de comida\n",
    "comida = get_coordenadas_libres(mi_tablero)               \n",
    "\n",
    "# Visor HTML donde se representará el juego\n",
    "visor = HTML()\n",
    "visor.value = pinta_juegoHTML(mi_tablero,mi_pacman,mi_comida,mi_puntos)\n",
    "\n",
    "# Botones para las direcciones\n",
    "up = Button(description=\"^\")\n",
    "down = Button(description=\"v\")\n",
    "right = Button(description=\">\")\n",
    "left = Button(description=\"<\")\n",
    "\n",
    "empty = Button(description=\" \")\n",
    "empty.margin = 2\n",
    "\n",
    "# se añaden eventos a los botones\n",
    "up.on_click(on_button_clicked)\n",
    "down.on_click(on_button_clicked)\n",
    "right.on_click(on_button_clicked)\n",
    "left.on_click(on_button_clicked)\n",
    "\n",
    "# Estética: Se crea una caja vertical con dos cajas horizontales dentro\n",
    "# Tenemos 2 x 3 casillas para colocar los botones y los colocamos en forma de teclado\n",
    "control = VBox([HBox([empty,up,empty]),HBox([left,down,right])])\n",
    "\n",
    "# El juego es el visor y los controles\n",
    "ui = VBox(children=[visor, control])\n",
    "\n",
    "display(ui)"
   ]
  }
 ],
 "metadata": {
  "celltoolbar": "Slideshow",
  "kernelspec": {
   "display_name": "Python 3 (ipykernel)",
   "language": "python",
   "name": "python3"
  },
  "language_info": {
   "codemirror_mode": {
    "name": "ipython",
    "version": 3
   },
   "file_extension": ".py",
   "mimetype": "text/x-python",
   "name": "python",
   "nbconvert_exporter": "python",
   "pygments_lexer": "ipython3",
   "version": "3.9.7"
  }
 },
 "nbformat": 4,
 "nbformat_minor": 2
}
